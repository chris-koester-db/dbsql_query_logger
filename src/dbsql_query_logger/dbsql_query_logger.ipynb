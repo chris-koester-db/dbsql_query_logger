{
 "cells": [
  {
   "cell_type": "markdown",
   "metadata": {
    "application/vnd.databricks.v1+cell": {
     "cellMetadata": {
      "byteLimit": 2048000,
      "rowLimit": 10000
     },
     "inputWidgets": {},
     "nuid": "c107f421-80a3-4808-9ea6-95ff657d0d49",
     "showTitle": false,
     "tableResultSettingsMap": {},
     "title": ""
    }
   },
   "source": [
    "%md\n",
    "## DBSQL Query Logger\n",
    "Shows how to retrieve DBSQL query history and merge it into a Delta table using a notebook"
   ]
  },
  {
   "cell_type": "code",
   "execution_count": 0,
   "metadata": {
    "application/vnd.databricks.v1+cell": {
     "cellMetadata": {
      "byteLimit": 2048000,
      "rowLimit": 10000
     },
     "inputWidgets": {},
     "nuid": "f1f0a1cd-5aa8-47b3-9603-887eb42075e9",
     "showTitle": false,
     "tableResultSettingsMap": {},
     "title": ""
    }
   },
   "outputs": [],
   "source": [
    "dbutils.widgets.text('catalog', 'main', '01 Catalog')\n",
    "dbutils.widgets.text('schema', 'observe', '02 Schema')\n",
    "dbutils.widgets.text('table', 'query_history', '03 Table')\n",
    "dbutils.widgets.dropdown('pipeline_mode', 'triggered', ['triggered', 'continuous'], '04 Pipeline Mode')\n",
    "dbutils.widgets.dropdown('backfill_period', '7 days', ['1 day', '7 days', '14 days', '21 days', '30 days'], '05 Reset')\n",
    "dbutils.widgets.dropdown('reset', 'no', ['yes', 'no'], '06 Reset')"
   ]
  },
  {
   "cell_type": "code",
   "execution_count": 0,
   "metadata": {
    "application/vnd.databricks.v1+cell": {
     "cellMetadata": {
      "byteLimit": 2048000,
      "rowLimit": 10000
     },
     "inputWidgets": {},
     "nuid": "3d32bd85-a99c-4c42-909d-bb449c8d9c43",
     "showTitle": false,
     "tableResultSettingsMap": {},
     "title": ""
    }
   },
   "outputs": [],
   "source": [
    "%pip install databricks-sdk==0.50.0"
   ]
  },
  {
   "cell_type": "code",
   "execution_count": 0,
   "metadata": {
    "application/vnd.databricks.v1+cell": {
     "cellMetadata": {
      "byteLimit": 2048000,
      "rowLimit": 10000
     },
     "inputWidgets": {},
     "nuid": "2ecbb010-c9d1-4372-9f99-22c0126d2bf2",
     "showTitle": false,
     "tableResultSettingsMap": {},
     "title": ""
    }
   },
   "outputs": [],
   "source": [
    "%restart_python"
   ]
  },
  {
   "cell_type": "code",
   "execution_count": 0,
   "metadata": {
    "application/vnd.databricks.v1+cell": {
     "cellMetadata": {
      "byteLimit": 2048000,
      "rowLimit": 10000
     },
     "inputWidgets": {},
     "nuid": "c2af7ccf-b633-416b-b5ba-e46f12c6f3de",
     "showTitle": false,
     "tableResultSettingsMap": {},
     "title": ""
    }
   },
   "outputs": [],
   "source": [
    "import logging\n",
    "from databricks.sdk import WorkspaceClient\n",
    "from main import QueryLogger\n",
    "\n",
    "logging.basicConfig(\n",
    "    format=\"%(asctime)s %(message)s\",\n",
    "    datefmt=\"%Y-%m-%dT%H:%M:%S%z\"\n",
    ")\n",
    "\n",
    "logger = logging.getLogger('dbsql_query_logger')\n",
    "logger.setLevel(logging.INFO)\n",
    "\n",
    "query_logger = QueryLogger(\n",
    "    workspace_client = WorkspaceClient(),\n",
    "    catalog = dbutils.widgets.get('catalog'),\n",
    "    schema = dbutils.widgets.get('schema'),\n",
    "    table = dbutils.widgets.get('table'),\n",
    "    pipeline_mode = dbutils.widgets.get('pipeline_mode'),\n",
    "    backfill_period = dbutils.widgets.get('backfill_period'),\n",
    "    reset = dbutils.widgets.get('reset')\n",
    ")\n",
    "\n",
    "query_logger.run()"
   ]
  }
 ],
 "metadata": {
  "application/vnd.databricks.v1+notebook": {
   "computePreferences": null,
   "dashboards": [],
   "environmentMetadata": null,
   "inputWidgetPreferences": null,
   "language": "python",
   "notebookMetadata": {
    "pythonIndentUnit": 2
   },
   "notebookName": "dbsql_query_logger",
   "widgets": {
    "backfill_period": {
     "currentValue": "1 day",
     "nuid": "034ede53-0e4b-4608-b5f2-d45579808856",
     "typedWidgetInfo": {
      "autoCreated": false,
      "defaultValue": "7 days",
      "label": "05 Reset",
      "name": "backfill_period",
      "options": {
       "choices": [
        "1 day",
        "7 days",
        "14 days",
        "21 days",
        "30 days"
       ],
       "fixedDomain": true,
       "multiselect": false,
       "widgetDisplayType": "Dropdown"
      },
      "parameterDataType": "String"
     },
     "widgetInfo": {
      "defaultValue": "7 days",
      "label": "05 Reset",
      "name": "backfill_period",
      "options": {
       "autoCreated": null,
       "choices": [
        "1 day",
        "7 days",
        "14 days",
        "21 days",
        "30 days"
       ],
       "widgetType": "dropdown"
      },
      "widgetType": "dropdown"
     }
    },
    "catalog": {
     "currentValue": "main",
     "nuid": "7f396306-d0c2-49bf-b6f9-b7ff9183c21b",
     "typedWidgetInfo": {
      "autoCreated": false,
      "defaultValue": "main",
      "label": "01 Catalog",
      "name": "catalog",
      "options": {
       "validationRegex": null,
       "widgetDisplayType": "Text"
      },
      "parameterDataType": "String"
     },
     "widgetInfo": {
      "defaultValue": "main",
      "label": "01 Catalog",
      "name": "catalog",
      "options": {
       "autoCreated": null,
       "validationRegex": null,
       "widgetType": "text"
      },
      "widgetType": "text"
     }
    },
    "pipeline_mode": {
     "currentValue": "triggered",
     "nuid": "9b67c539-6978-4533-a6ab-f1ac73e47ce4",
     "typedWidgetInfo": {
      "autoCreated": false,
      "defaultValue": "triggered",
      "label": "04 Pipeline Mode",
      "name": "pipeline_mode",
      "options": {
       "choices": [
        "triggered",
        "continuous"
       ],
       "fixedDomain": true,
       "multiselect": false,
       "widgetDisplayType": "Dropdown"
      },
      "parameterDataType": "String"
     },
     "widgetInfo": {
      "defaultValue": "triggered",
      "label": "04 Pipeline Mode",
      "name": "pipeline_mode",
      "options": {
       "autoCreated": null,
       "choices": [
        "triggered",
        "continuous"
       ],
       "widgetType": "dropdown"
      },
      "widgetType": "dropdown"
     }
    },
    "reset": {
     "currentValue": "no",
     "nuid": "baf31ed3-6228-4143-a24d-18cff3a3a1b4",
     "typedWidgetInfo": {
      "autoCreated": false,
      "defaultValue": "no",
      "label": "06 Reset",
      "name": "reset",
      "options": {
       "choices": [
        "yes",
        "no"
       ],
       "fixedDomain": true,
       "multiselect": false,
       "widgetDisplayType": "Dropdown"
      },
      "parameterDataType": "String"
     },
     "widgetInfo": {
      "defaultValue": "no",
      "label": "06 Reset",
      "name": "reset",
      "options": {
       "autoCreated": null,
       "choices": [
        "yes",
        "no"
       ],
       "widgetType": "dropdown"
      },
      "widgetType": "dropdown"
     }
    },
    "schema": {
     "currentValue": "observe",
     "nuid": "54e22320-2e31-4236-866b-6d8d7507b7ac",
     "typedWidgetInfo": {
      "autoCreated": false,
      "defaultValue": "observe",
      "label": "02 Schema",
      "name": "schema",
      "options": {
       "validationRegex": null,
       "widgetDisplayType": "Text"
      },
      "parameterDataType": "String"
     },
     "widgetInfo": {
      "defaultValue": "observe",
      "label": "02 Schema",
      "name": "schema",
      "options": {
       "autoCreated": null,
       "validationRegex": null,
       "widgetType": "text"
      },
      "widgetType": "text"
     }
    },
    "table": {
     "currentValue": "query_history",
     "nuid": "c0f80a21-aef5-4d31-a6e1-fba80a9d6327",
     "typedWidgetInfo": {
      "autoCreated": false,
      "defaultValue": "query_history",
      "label": "03 Table",
      "name": "table",
      "options": {
       "validationRegex": null,
       "widgetDisplayType": "Text"
      },
      "parameterDataType": "String"
     },
     "widgetInfo": {
      "defaultValue": "query_history",
      "label": "03 Table",
      "name": "table",
      "options": {
       "autoCreated": null,
       "validationRegex": null,
       "widgetType": "text"
      },
      "widgetType": "text"
     }
    }
   }
  },
  "language_info": {
   "name": "python"
  }
 },
 "nbformat": 4,
 "nbformat_minor": 0
}
