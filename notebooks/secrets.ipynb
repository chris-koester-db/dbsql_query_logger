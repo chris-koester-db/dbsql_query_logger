{
 "cells": [
  {
   "cell_type": "markdown",
   "metadata": {},
   "source": [
    "%md\n",
    "## Add Secret With the Databricks SDK for Python\n",
    "The notebook cells below show how to create a secret scope and add a secret with the SDK for Python"
   ]
  },
  {
   "cell_type": "code",
   "execution_count": null,
   "metadata": {
    "application/vnd.databricks.v1+cell": {
     "cellMetadata": {
      "byteLimit": 2048000,
      "rowLimit": 10000
     },
     "inputWidgets": {},
     "nuid": "a22c4c74-d0f9-4125-8bd5-8da96b8075ca",
     "showTitle": false,
     "title": ""
    }
   },
   "outputs": [],
   "source": [
    "%pip install databricks-sdk==0.29.0 --upgrade"
   ]
  },
  {
   "cell_type": "code",
   "execution_count": null,
   "metadata": {
    "application/vnd.databricks.v1+cell": {
     "cellMetadata": {
      "byteLimit": 2048000,
      "rowLimit": 10000
     },
     "inputWidgets": {},
     "nuid": "15c988cd-fb2b-4ec7-9714-8cf25d4c8eaf",
     "showTitle": false,
     "title": ""
    }
   },
   "outputs": [],
   "source": [
    "dbutils.library.restartPython()"
   ]
  },
  {
   "cell_type": "code",
   "execution_count": null,
   "metadata": {
    "application/vnd.databricks.v1+cell": {
     "cellMetadata": {
      "byteLimit": 2048000,
      "rowLimit": 10000
     },
     "inputWidgets": {},
     "nuid": "453e2ac8-eecd-4895-a2c0-365343b59f38",
     "showTitle": true,
     "title": "Set Variables"
    }
   },
   "outputs": [],
   "source": [
    "scope = 'observability'\n",
    "secret = {\n",
    "    'key': 'pat',\n",
    "    'string_value': 'your_token'\n",
    "}"
   ]
  },
  {
   "cell_type": "code",
   "execution_count": null,
   "metadata": {
    "application/vnd.databricks.v1+cell": {
     "cellMetadata": {
      "byteLimit": 2048000,
      "rowLimit": 10000
     },
     "inputWidgets": {},
     "nuid": "81775173-cfb8-447c-aebf-33201b759fb3",
     "showTitle": true,
     "title": "Create Secret Scope"
    }
   },
   "outputs": [],
   "source": [
    "from databricks.sdk import WorkspaceClient\n",
    "from databricks.sdk.errors import ResourceDoesNotExist\n",
    "\n",
    "w = WorkspaceClient()\n",
    "\n",
    "def scope_exists(scope):\n",
    "    scope_list = w.secrets.list_scopes()\n",
    "    for i in scope_list:\n",
    "        if i.name == scope:\n",
    "            return True\n",
    "            break\n",
    "        \n",
    "if scope_exists(scope):\n",
    "    print(f'Secret scope {scope} exists')\n",
    "else:\n",
    "    w.secrets.create_scope(scope)\n",
    "    print(f'Created secret scope {scope}')"
   ]
  },
  {
   "cell_type": "code",
   "execution_count": null,
   "metadata": {
    "application/vnd.databricks.v1+cell": {
     "cellMetadata": {
      "byteLimit": 2048000,
      "rowLimit": 10000
     },
     "inputWidgets": {},
     "nuid": "f8a437fa-9d2f-4f41-b312-cac42d71061d",
     "showTitle": true,
     "title": "Add Secret"
    }
   },
   "outputs": [],
   "source": [
    "w.secrets.put_secret(scope=scope, **secret)\n",
    "print(f\"Added or replaced secret '{secret['key']}' in scope '{scope}'\")"
   ]
  },
  {
   "cell_type": "code",
   "execution_count": null,
   "metadata": {
    "application/vnd.databricks.v1+cell": {
     "cellMetadata": {
      "byteLimit": 2048000,
      "rowLimit": 10000
     },
     "inputWidgets": {},
     "nuid": "00829c96-1c28-42f4-a2f4-8c2486ce26aa",
     "showTitle": true,
     "title": "Delete Secret"
    }
   },
   "outputs": [],
   "source": [
    "delete_secret = False\n",
    "\n",
    "if delete_secret:\n",
    "    try:\n",
    "        w.secrets.delete_secret(scope=scope, key=secret['key'])\n",
    "        print(f\"Deleted secret '{secret['key']}' in scope '{scope}'\")\n",
    "    except ResourceDoesNotExist as e:\n",
    "        print(e)"
   ]
  },
  {
   "cell_type": "code",
   "execution_count": null,
   "metadata": {
    "application/vnd.databricks.v1+cell": {
     "cellMetadata": {
      "byteLimit": 2048000,
      "rowLimit": 10000
     },
     "inputWidgets": {},
     "nuid": "72cf33e4-28c9-4a3b-9918-695dc816fabc",
     "showTitle": true,
     "title": "Get Secret"
    }
   },
   "outputs": [],
   "source": [
    "token = dbutils.secrets.get(scope, secret['key'])"
   ]
  }
 ],
 "metadata": {
  "application/vnd.databricks.v1+notebook": {
   "dashboards": [],
   "environmentMetadata": null,
   "language": "python",
   "notebookMetadata": {
    "pythonIndentUnit": 2
   },
   "notebookName": "secrets",
   "widgets": {}
  },
  "language_info": {
   "name": "python"
  }
 },
 "nbformat": 4,
 "nbformat_minor": 0
}
