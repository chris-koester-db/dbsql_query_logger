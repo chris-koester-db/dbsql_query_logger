{
 "cells": [
  {
   "cell_type": "markdown",
   "metadata": {},
   "source": [
    "%md\n",
    "## DBSQL Query Logger\n",
    "Shows how to retrieve DBSQL query history and merge it into a Delta table using a notebook"
   ]
  },
  {
   "cell_type": "code",
   "execution_count": null,
   "metadata": {
    "application/vnd.databricks.v1+cell": {
     "cellMetadata": {
      "byteLimit": 2048000,
      "rowLimit": 10000
     },
     "inputWidgets": {},
     "nuid": "f1f0a1cd-5aa8-47b3-9603-887eb42075e9",
     "showTitle": false,
     "title": ""
    }
   },
   "outputs": [],
   "source": [
    "dbutils.widgets.text('catalog', 'main', '01 Catalog')\n",
    "dbutils.widgets.text('schema', 'observe', '02 Schema')\n",
    "dbutils.widgets.text('table', 'query_history', '03 Table')\n",
    "dbutils.widgets.dropdown('pipeline_mode', 'triggered', ['triggered', 'continuous'], '04 Pipeline Mode')\n",
    "dbutils.widgets.dropdown('backfill_period', '7 days', ['1 day', '7 days', '14 days', '21 days', '30 days'], '05 Reset')\n",
    "dbutils.widgets.dropdown('reset', 'no', ['yes', 'no'], '06 Reset')"
   ]
  },
  {
   "cell_type": "code",
   "execution_count": null,
   "metadata": {
    "application/vnd.databricks.v1+cell": {
     "cellMetadata": {
      "byteLimit": 2048000,
      "rowLimit": 10000
     },
     "inputWidgets": {},
     "nuid": "b78923a4-0075-41c9-b0b5-609531283d8a",
     "showTitle": false,
     "title": ""
    }
   },
   "outputs": [],
   "source": [
    "%pip install /Workspace/Shared/libraries/dbsql_query_logger-0.1.0-py3-none-any.whl"
   ]
  },
  {
   "cell_type": "code",
   "execution_count": null,
   "metadata": {
    "application/vnd.databricks.v1+cell": {
     "cellMetadata": {
      "byteLimit": 2048000,
      "rowLimit": 10000
     },
     "inputWidgets": {},
     "nuid": "ae3fdbc5-e7bc-4a9d-af57-3eb539020457",
     "showTitle": false,
     "title": ""
    }
   },
   "outputs": [],
   "source": [
    "dbutils.library.restartPython()"
   ]
  },
  {
   "cell_type": "code",
   "execution_count": null,
   "metadata": {
    "application/vnd.databricks.v1+cell": {
     "cellMetadata": {
      "byteLimit": 2048000,
      "rowLimit": 10000
     },
     "inputWidgets": {},
     "nuid": "c2af7ccf-b633-416b-b5ba-e46f12c6f3de",
     "showTitle": false,
     "title": ""
    }
   },
   "outputs": [],
   "source": [
    "import logging\n",
    "from dbsql_query_logger.main import QueryLogger\n",
    "\n",
    "logging.basicConfig(\n",
    "    format=\"%(asctime)s %(message)s\",\n",
    "    datefmt=\"%Y-%m-%dT%H:%M:%S%z\"\n",
    ")\n",
    "\n",
    "logger = logging.getLogger('dbsql_query_logger')\n",
    "logger.setLevel(logging.INFO)\n",
    "\n",
    "query_logger = QueryLogger(\n",
    "    catalog = dbutils.widgets.get('catalog'),\n",
    "    schema = dbutils.widgets.get('schema'),\n",
    "    table = dbutils.widgets.get('table'),\n",
    "    pipeline_mode = dbutils.widgets.get('pipeline_mode'),\n",
    "    backfill_period = dbutils.widgets.get('backfill_period'),\n",
    "    reset = dbutils.widgets.get('reset')\n",
    ")\n",
    "\n",
    "query_logger.run()"
   ]
  }
 ],
 "metadata": {
  "application/vnd.databricks.v1+notebook": {
   "dashboards": [],
   "environmentMetadata": null,
   "language": "python",
   "notebookMetadata": {
    "pythonIndentUnit": 2
   },
   "notebookName": "dbsql_query_logger_notebook",
   "widgets": {
    "backfill_period": {
     "currentValue": "7 days",
     "nuid": "034ede53-0e4b-4608-b5f2-d45579808856",
     "typedWidgetInfo": null,
     "widgetInfo": {
      "defaultValue": "7 days",
      "label": "05 Reset",
      "name": "backfill_period",
      "options": {
       "autoCreated": null,
       "choices": [
        "1 day",
        "7 days",
        "14 days",
        "21 days",
        "30 days"
       ],
       "widgetType": "dropdown"
      },
      "widgetType": "dropdown"
     }
    },
    "catalog": {
     "currentValue": "main",
     "nuid": "7f396306-d0c2-49bf-b6f9-b7ff9183c21b",
     "typedWidgetInfo": null,
     "widgetInfo": {
      "defaultValue": "main",
      "label": "01 Catalog",
      "name": "catalog",
      "options": {
       "autoCreated": null,
       "validationRegex": null,
       "widgetType": "text"
      },
      "widgetType": "text"
     }
    },
    "pipeline_mode": {
     "currentValue": "triggered",
     "nuid": "9b67c539-6978-4533-a6ab-f1ac73e47ce4",
     "typedWidgetInfo": null,
     "widgetInfo": {
      "defaultValue": "triggered",
      "label": "04 Pipeline Mode",
      "name": "pipeline_mode",
      "options": {
       "autoCreated": null,
       "choices": [
        "triggered",
        "continuous"
       ],
       "widgetType": "dropdown"
      },
      "widgetType": "dropdown"
     }
    },
    "reset": {
     "currentValue": "no",
     "nuid": "baf31ed3-6228-4143-a24d-18cff3a3a1b4",
     "typedWidgetInfo": null,
     "widgetInfo": {
      "defaultValue": "no",
      "label": "06 Reset",
      "name": "reset",
      "options": {
       "autoCreated": null,
       "choices": [
        "yes",
        "no"
       ],
       "widgetType": "dropdown"
      },
      "widgetType": "dropdown"
     }
    },
    "schema": {
     "currentValue": "observe",
     "nuid": "54e22320-2e31-4236-866b-6d8d7507b7ac",
     "typedWidgetInfo": null,
     "widgetInfo": {
      "defaultValue": "observe",
      "label": "02 Schema",
      "name": "schema",
      "options": {
       "autoCreated": null,
       "validationRegex": null,
       "widgetType": "text"
      },
      "widgetType": "text"
     }
    },
    "table": {
     "currentValue": "query_history",
     "nuid": "c0f80a21-aef5-4d31-a6e1-fba80a9d6327",
     "typedWidgetInfo": null,
     "widgetInfo": {
      "defaultValue": "query_history",
      "label": "03 Table",
      "name": "table",
      "options": {
       "autoCreated": null,
       "validationRegex": null,
       "widgetType": "text"
      },
      "widgetType": "text"
     }
    }
   }
  },
  "language_info": {
   "name": "python"
  }
 },
 "nbformat": 4,
 "nbformat_minor": 0
}
