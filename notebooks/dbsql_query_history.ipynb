{
 "cells": [
  {
   "cell_type": "markdown",
   "metadata": {
    "application/vnd.databricks.v1+cell": {
     "cellMetadata": {
      "byteLimit": 2048000,
      "rowLimit": 10000
     },
     "inputWidgets": {},
     "nuid": "7c59e388-e550-4e4d-ab16-b158c3f53f8f",
     "showTitle": false,
     "title": ""
    }
   },
   "source": [
    "%md\n",
    "## DBSQL Query History\n",
    "Shows how to retrieve DBSQL query history and load it into a dataframe"
   ]
  },
  {
   "cell_type": "code",
   "execution_count": null,
   "metadata": {
    "application/vnd.databricks.v1+cell": {
     "cellMetadata": {
      "byteLimit": 2048000,
      "rowLimit": 10000
     },
     "inputWidgets": {},
     "nuid": "3463bb94-c8fe-44bd-92cf-a7331f5f1f5d",
     "showTitle": false,
     "title": ""
    }
   },
   "outputs": [],
   "source": [
    "%pip install /Workspace/Shared/libraries/dbsql_query_logger-0.1.0-py3-none-any.whl"
   ]
  },
  {
   "cell_type": "code",
   "execution_count": null,
   "metadata": {
    "application/vnd.databricks.v1+cell": {
     "cellMetadata": {
      "byteLimit": 2048000,
      "rowLimit": 10000
     },
     "inputWidgets": {},
     "nuid": "9cd73150-5bf4-4759-a5b1-61dba2e609d1",
     "showTitle": false,
     "title": ""
    }
   },
   "outputs": [],
   "source": [
    "dbutils.library.restartPython()"
   ]
  },
  {
   "cell_type": "code",
   "execution_count": null,
   "metadata": {
    "application/vnd.databricks.v1+cell": {
     "cellMetadata": {
      "byteLimit": 2048000,
      "rowLimit": 10000
     },
     "inputWidgets": {},
     "nuid": "169f4597-e91d-4c47-b96b-b97f78dd30eb",
     "showTitle": false,
     "title": ""
    }
   },
   "outputs": [],
   "source": [
    "import logging\n",
    "from dbsql_query_logger.main import QueryLogger\n",
    "from datetime import datetime, timedelta\n",
    "\n",
    "logging.basicConfig(\n",
    "    format=\"%(asctime)s %(message)s\",\n",
    "    datefmt=\"%Y-%m-%dT%H:%M:%S%z\"\n",
    ")\n",
    "\n",
    "logger = logging.getLogger('dbsql_query_logger')\n",
    "logger.setLevel(logging.INFO)\n",
    " \n",
    "end_time = datetime.now()\n",
    "start_time = end_time - timedelta(hours=1)\n",
    "logger.info(f'start_time: {start_time}')\n",
    "logger.info(f'end_time: {end_time}')\n",
    "\n",
    "query_logger = QueryLogger(\n",
    "    start_time=start_time,\n",
    "    end_time=end_time,\n",
    "    warehouse_ids=['475b94ddc7cd5211']\n",
    ")\n",
    "\n",
    "query_hist = query_logger.get_query_history()\n",
    "query_hist_df = query_logger.create_dataframe(query_hist)\n",
    "display(query_hist_df)"
   ]
  }
 ],
 "metadata": {
  "application/vnd.databricks.v1+notebook": {
   "dashboards": [],
   "environmentMetadata": null,
   "language": "python",
   "notebookMetadata": {
    "pythonIndentUnit": 2
   },
   "notebookName": "dbsql_query_history",
   "widgets": {}
  },
  "language_info": {
   "name": "python"
  }
 },
 "nbformat": 4,
 "nbformat_minor": 0
}
